{
 "cells": [
  {
   "cell_type": "code",
   "execution_count": 122,
   "id": "1437c767",
   "metadata": {},
   "outputs": [],
   "source": [
    "%run CFBmodel/import_modules.ipynb\n",
    "configuration = cfbd.Configuration()\n",
    "configuration.api_key['Authorization'] = 'MyjBpIrnMbCmsxXJD6zmiOCWqjB3p+7Icq5PRSrN82IXeOppkoEWybx1SmRryxT+'\n",
    "configuration.api_key_prefix['Authorization']='Bearer'\n",
    "api_instance = cfbd.GamesApi(cfbd.ApiClient(configuration))\n",
    "# game_id=game_id  season_type=season_type, team=team, home=home, away=away, conference=conference)"
   ]
  },
  {
   "cell_type": "code",
   "execution_count": 123,
   "id": "c63655d0",
   "metadata": {},
   "outputs": [],
   "source": [
    "con=sqlite3.connect('CFBModel/collegeFootball.db')\n",
    "cursor_obj= con.cursor()\n",
    "games = pd.read_sql(\"\"\"SELECT * FROM Games23\"\"\", con)"
   ]
  },
  {
   "cell_type": "code",
   "execution_count": 128,
   "id": "8d6561fd",
   "metadata": {},
   "outputs": [
    {
     "data": {
      "text/plain": [
       "0       401550883\n",
       "1       401525434\n",
       "2       401540199\n",
       "3       401520145\n",
       "4       401532392\n",
       "          ...    \n",
       "3594    401539484\n",
       "3595    401539477\n",
       "3596    401539478\n",
       "3597    401539480\n",
       "3598    401520445\n",
       "Name: id, Length: 3599, dtype: int64"
      ]
     },
     "execution_count": 128,
     "metadata": {},
     "output_type": "execute_result"
    }
   ],
   "source": [
    "games.id"
   ]
  },
  {
   "cell_type": "code",
   "execution_count": 129,
   "id": "83338dc7",
   "metadata": {},
   "outputs": [
    {
     "data": {
      "text/plain": [
       "{'players': None, 'teams': None}"
      ]
     },
     "execution_count": 129,
     "metadata": {},
     "output_type": "execute_result"
    }
   ],
   "source": [
    "api_instance.get_advanced_box_score(game_id=401550883)"
   ]
  },
  {
   "cell_type": "code",
   "execution_count": null,
   "id": "f2e54dc7",
   "metadata": {},
   "outputs": [],
   "source": [
    "empty_games_list=[]\n",
    "def parse_data(game_id):\n",
    "    data = api_instance.get_advanced_box_score(game_id=game_id)\n",
    "    # Check if data is None\n",
    "    if ((data.players is None) & (data.teams is None)):\n",
    "        empty_games_list.append(game_id)\n",
    "        return pd.DataFrame(), pd.DataFrame()  # Return empty DataFrames\n",
    "\n",
    "    combined_players = []\n",
    "    combined_teams = []\n",
    "\n",
    "    # Parse players\n",
    "    for player in data.players.ppa:\n",
    "        player_info = {\n",
    "                'game_id': game_id,  # Add game_id to player info\n",
    "                'player': player.player,\n",
    "                'position': player.position,\n",
    "                'team': player.team,\n",
    "                'average_passing': player.average.passing,\n",
    "                'average_rushing': player.average.rushing,\n",
    "                'cumulative_passing': player.cumulative.passing,\n",
    "                'cumulative_rushing': player.cumulative.rushing,\n",
    "                'total_average': player.average.total,\n",
    "                'total_cumulative': player.cumulative.total\n",
    "            }\n",
    "        combined_players.append(player_info)\n",
    "\n",
    "        # Parse teams\n",
    "    for team in data.teams.cumulative_ppa:\n",
    "        team_info = {\n",
    "                'game_id': game_id,  # Add game_id to team info\n",
    "                'team': team.team,\n",
    "                'plays': team.plays,\n",
    "                'overall_quarter1': team.overall.quarter1,\n",
    "                'overall_quarter2': team.overall.quarter2,\n",
    "                'overall_quarter3': team.overall.quarter3,\n",
    "                'overall_quarter4': team.overall.quarter4,\n",
    "                'overall_total': team.overall.total,\n",
    "                'passing_quarter1': team.passing.quarter1,\n",
    "                'passing_quarter2': team.passing.quarter2,\n",
    "                'passing_quarter3': team.passing.quarter3,\n",
    "                'passing_quarter4': team.passing.quarter4,\n",
    "                'passing_total': team.passing.total,\n",
    "                'rushing_quarter1': team.rushing.quarter1,\n",
    "                'rushing_quarter2': team.rushing.quarter2,\n",
    "                'rushing_quarter3': team.rushing.quarter3,\n",
    "                'rushing_quarter4': team.rushing.quarter4,\n",
    "                'rushing_total': team.rushing.total\n",
    "            }\n",
    "        combined_teams.append(team_info)\n",
    "\n",
    "        # Create DataFrames from the lists of dictionaries\n",
    "    players_df = pd.DataFrame(combined_players)\n",
    "    teams_df = pd.DataFrame(combined_teams)\n",
    "\n",
    "    return players_df, teams_df, empty_games_list\n",
    "def get_box_scores(game_ids):\n",
    "    results = [parse_data(game_id) for game_id in game_ids]\n",
    "\n",
    "    # Split the results into players and teams DataFrames\n",
    "    players_data = [result[0] for result in results]\n",
    "    teams_data = [result[1] for result in results]\n",
    "\n",
    "    # Concatenate all DataFrames\n",
    "    combined_players_df = pd.concat(players_data, ignore_index=True) if players_data else pd.DataFrame()\n",
    "    combined_teams_df = pd.concat(teams_data, ignore_index=True) if teams_data else pd.DataFrame()\n",
    "\n",
    "    return combined_players_df, combined_teams_df\n",
    "\n",
    "combined_players_df_2023, combined_teams_df_2023 = get_box_scores(games.id)\n"
   ]
  },
  {
   "cell_type": "code",
   "execution_count": null,
   "id": "f5d2b347",
   "metadata": {},
   "outputs": [],
   "source": [
    "con=sqlite3.connect('CFBModel/collegeFootball.db')\n",
    "cursor_obj= con.cursor()\n",
    "cursor_obj.execute(\"DROP TABLE IF EXISTS playerBoxScore23\")\n",
    "combined_players_df_2023.to_sql(name='playerBoxScore23',con=con)\n",
    "\n",
    "con=sqlite3.connect('CFBModel/collegeFootball.db')\n",
    "cursor_obj= con.cursor()\n",
    "cursor_obj.execute(\"DROP TABLE IF EXISTS teamBoxScore23\")\n",
    "combined_teams_df_2023.to_sql(name='teamBoxScore23',con=con)"
   ]
  },
  {
   "cell_type": "code",
   "execution_count": null,
   "id": "68953e81",
   "metadata": {},
   "outputs": [],
   "source": [
    "con.commit()\n",
    "con.close()"
   ]
  }
 ],
 "metadata": {
  "kernelspec": {
   "display_name": "Python 3 (ipykernel)",
   "language": "python",
   "name": "python3"
  },
  "language_info": {
   "codemirror_mode": {
    "name": "ipython",
    "version": 3
   },
   "file_extension": ".py",
   "mimetype": "text/x-python",
   "name": "python",
   "nbconvert_exporter": "python",
   "pygments_lexer": "ipython3",
   "version": "3.11.5"
  }
 },
 "nbformat": 4,
 "nbformat_minor": 5
}
