{
 "cells": [
  {
   "cell_type": "markdown",
   "id": "386c97ba",
   "metadata": {},
   "source": [
    "import_modules"
   ]
  },
  {
   "cell_type": "code",
   "execution_count": 1,
   "id": "2ec66b92",
   "metadata": {},
   "outputs": [
    {
     "ename": "NameError",
     "evalue": "name 'api_key' is not defined",
     "output_type": "error",
     "traceback": [
      "\u001b[1;31m---------------------------------------------------------------------------\u001b[0m",
      "\u001b[1;31mNameError\u001b[0m                                 Traceback (most recent call last)",
      "Cell \u001b[1;32mIn[1], line 8\u001b[0m\n\u001b[0;32m      6\u001b[0m \u001b[38;5;28;01mimport\u001b[39;00m \u001b[38;5;21;01msqlite3\u001b[39;00m\n\u001b[0;32m      7\u001b[0m configuration \u001b[38;5;241m=\u001b[39m cfbd\u001b[38;5;241m.\u001b[39mConfiguration()\n\u001b[1;32m----> 8\u001b[0m configuration\u001b[38;5;241m.\u001b[39mapi_key[\u001b[38;5;124m'\u001b[39m\u001b[38;5;124mAuthorization\u001b[39m\u001b[38;5;124m'\u001b[39m] \u001b[38;5;241m=\u001b[39m api_key\n\u001b[0;32m      9\u001b[0m configuration\u001b[38;5;241m.\u001b[39mapi_key_prefix[\u001b[38;5;124m'\u001b[39m\u001b[38;5;124mAuthorization\u001b[39m\u001b[38;5;124m'\u001b[39m]\u001b[38;5;241m=\u001b[39m\u001b[38;5;124m'\u001b[39m\u001b[38;5;124mBearer\u001b[39m\u001b[38;5;124m'\u001b[39m\n\u001b[0;32m     10\u001b[0m api_instance \u001b[38;5;241m=\u001b[39m cfbd\u001b[38;5;241m.\u001b[39mGamesApi(cfbd\u001b[38;5;241m.\u001b[39mApiClient(configuration))\n",
      "\u001b[1;31mNameError\u001b[0m: name 'api_key' is not defined"
     ]
    }
   ],
   "source": [
    "from concurrent.futures import ThreadPoolExecutor\n",
    "import numpy as np\n",
    "import cfbd\n",
    "from cfbd.rest import ApiException\n",
    "import pandas as pd\n",
    "import sqlite3\n",
    "configuration = cfbd.Configuration()\n",
    "configuration.api_key['Authorization'] = api_key\n",
    "configuration.api_key_prefix['Authorization']='Bearer'\n",
    "api_instance = cfbd.GamesApi(cfbd.ApiClient(configuration))"
   ]
  },
  {
   "cell_type": "code",
   "execution_count": null,
   "id": "203a56cb",
   "metadata": {},
   "outputs": [],
   "source": []
  }
 ],
 "metadata": {
  "kernelspec": {
   "display_name": "Python 3 (ipykernel)",
   "language": "python",
   "name": "python3"
  },
  "language_info": {
   "codemirror_mode": {
    "name": "ipython",
    "version": 3
   },
   "file_extension": ".py",
   "mimetype": "text/x-python",
   "name": "python",
   "nbconvert_exporter": "python",
   "pygments_lexer": "ipython3",
   "version": "3.11.5"
  }
 },
 "nbformat": 4,
 "nbformat_minor": 5
}
