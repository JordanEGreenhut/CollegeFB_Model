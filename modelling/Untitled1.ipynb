{
 "cells": [
  {
   "cell_type": "code",
   "execution_count": 26,
   "id": "595d564e",
   "metadata": {},
   "outputs": [],
   "source": [
    "%run import_modules.ipynb\n",
    "configuration = cfbd.Configuration()\n",
    "configuration.api_key['Authorization'] = 'MyjBpIrnMbCmsxXJD6zmiOCWqjB3p+7Icq5PRSrN82IXeOppkoEWybx1SmRryxT+'\n",
    "configuration.api_key_prefix['Authorization']='Bearer'\n",
    "api_instance = cfbd.TeamsApi(cfbd.ApiClient(configuration))"
   ]
  },
  {
   "cell_type": "code",
   "execution_count": 8,
   "id": "1ed80d2a",
   "metadata": {},
   "outputs": [
    {
     "data": {
      "text/plain": [
       "{'school': 'Georgia', 'talent': 990.47, 'year': 2020}"
      ]
     },
     "execution_count": 8,
     "metadata": {},
     "output_type": "execute_result"
    }
   ],
   "source": [
    "api_response[0]"
   ]
  },
  {
   "cell_type": "code",
   "execution_count": 27,
   "id": "a114dbe8",
   "metadata": {},
   "outputs": [],
   "source": [
    "def get_talent():\n",
    "    combined_talent = []\n",
    "    for i in range(2020,2025):\n",
    "        api_response = api_instance.get_talent(year=i)\n",
    "        for j in api_response:\n",
    "            talent_info = {\n",
    "                'team': j.school,\n",
    "                'talent': j.talent,\n",
    "                'year': j.year ,\n",
    "            }\n",
    "            combined_talent.append(talent_info)\n",
    "    return(pd.DataFrame(combined_talent))"
   ]
  },
  {
   "cell_type": "code",
   "execution_count": 28,
   "id": "7e6908ea",
   "metadata": {},
   "outputs": [],
   "source": [
    "talent=get_talent()"
   ]
  },
  {
   "cell_type": "code",
   "execution_count": 25,
   "id": "f265f232",
   "metadata": {},
   "outputs": [
    {
     "data": {
      "text/html": [
       "<div>\n",
       "<style scoped>\n",
       "    .dataframe tbody tr th:only-of-type {\n",
       "        vertical-align: middle;\n",
       "    }\n",
       "\n",
       "    .dataframe tbody tr th {\n",
       "        vertical-align: top;\n",
       "    }\n",
       "\n",
       "    .dataframe thead th {\n",
       "        text-align: right;\n",
       "    }\n",
       "</style>\n",
       "<table border=\"1\" class=\"dataframe\">\n",
       "  <thead>\n",
       "    <tr style=\"text-align: right;\">\n",
       "      <th></th>\n",
       "      <th>team</th>\n",
       "      <th>talent</th>\n",
       "      <th>year</th>\n",
       "    </tr>\n",
       "  </thead>\n",
       "  <tbody>\n",
       "    <tr>\n",
       "      <th>0</th>\n",
       "      <td>Georgia2020</td>\n",
       "      <td>990.47</td>\n",
       "      <td>2020</td>\n",
       "    </tr>\n",
       "    <tr>\n",
       "      <th>1</th>\n",
       "      <td>Alabama2020</td>\n",
       "      <td>985.86</td>\n",
       "      <td>2020</td>\n",
       "    </tr>\n",
       "    <tr>\n",
       "      <th>2</th>\n",
       "      <td>Ohio State2020</td>\n",
       "      <td>976.48</td>\n",
       "      <td>2020</td>\n",
       "    </tr>\n",
       "    <tr>\n",
       "      <th>3</th>\n",
       "      <td>Clemson2020</td>\n",
       "      <td>915.57</td>\n",
       "      <td>2020</td>\n",
       "    </tr>\n",
       "    <tr>\n",
       "      <th>4</th>\n",
       "      <td>Texas2020</td>\n",
       "      <td>892.91</td>\n",
       "      <td>2020</td>\n",
       "    </tr>\n",
       "    <tr>\n",
       "      <th>...</th>\n",
       "      <td>...</td>\n",
       "      <td>...</td>\n",
       "      <td>...</td>\n",
       "    </tr>\n",
       "    <tr>\n",
       "      <th>1045</th>\n",
       "      <td>UL Monroe2024</td>\n",
       "      <td>329.43</td>\n",
       "      <td>2024</td>\n",
       "    </tr>\n",
       "    <tr>\n",
       "      <th>1046</th>\n",
       "      <td>Kennesaw State2024</td>\n",
       "      <td>288.14</td>\n",
       "      <td>2024</td>\n",
       "    </tr>\n",
       "    <tr>\n",
       "      <th>1047</th>\n",
       "      <td>Army2024</td>\n",
       "      <td>0.00</td>\n",
       "      <td>2024</td>\n",
       "    </tr>\n",
       "    <tr>\n",
       "      <th>1048</th>\n",
       "      <td>Air Force2024</td>\n",
       "      <td>0.00</td>\n",
       "      <td>2024</td>\n",
       "    </tr>\n",
       "    <tr>\n",
       "      <th>1049</th>\n",
       "      <td>Navy2024</td>\n",
       "      <td>0.00</td>\n",
       "      <td>2024</td>\n",
       "    </tr>\n",
       "  </tbody>\n",
       "</table>\n",
       "<p>1050 rows × 3 columns</p>\n",
       "</div>"
      ],
      "text/plain": [
       "                    team  talent  year\n",
       "0            Georgia2020  990.47  2020\n",
       "1            Alabama2020  985.86  2020\n",
       "2         Ohio State2020  976.48  2020\n",
       "3            Clemson2020  915.57  2020\n",
       "4              Texas2020  892.91  2020\n",
       "...                  ...     ...   ...\n",
       "1045       UL Monroe2024  329.43  2024\n",
       "1046  Kennesaw State2024  288.14  2024\n",
       "1047            Army2024    0.00  2024\n",
       "1048       Air Force2024    0.00  2024\n",
       "1049            Navy2024    0.00  2024\n",
       "\n",
       "[1050 rows x 3 columns]"
      ]
     },
     "execution_count": 25,
     "metadata": {},
     "output_type": "execute_result"
    }
   ],
   "source": [
    "talent"
   ]
  },
  {
   "cell_type": "code",
   "execution_count": 29,
   "id": "e2c9d86d",
   "metadata": {},
   "outputs": [],
   "source": [
    "con=sqlite3.connect('collegeFootball.db')\n",
    "cursor_obj= con.cursor()\n",
    "cursor_obj.execute(\"DROP TABLE IF EXISTS talent20s\")\n",
    "talent.to_sql(name='talent20s',con=con)\n",
    "\n",
    "con.commit()\n",
    "con.close()"
   ]
  }
 ],
 "metadata": {
  "kernelspec": {
   "display_name": "Python 3 (ipykernel)",
   "language": "python",
   "name": "python3"
  },
  "language_info": {
   "codemirror_mode": {
    "name": "ipython",
    "version": 3
   },
   "file_extension": ".py",
   "mimetype": "text/x-python",
   "name": "python",
   "nbconvert_exporter": "python",
   "pygments_lexer": "ipython3",
   "version": "3.11.5"
  }
 },
 "nbformat": 4,
 "nbformat_minor": 5
}
