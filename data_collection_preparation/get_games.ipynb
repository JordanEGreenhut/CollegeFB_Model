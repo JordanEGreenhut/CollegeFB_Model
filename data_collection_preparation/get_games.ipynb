{
 "cells": [
  {
   "cell_type": "code",
   "execution_count": 38,
   "id": "3e092695",
   "metadata": {},
   "outputs": [],
   "source": [
    "%run CFBModel/data_collection_preparation/import_modules.ipynb\n",
    "configuration = cfbd.Configuration()\n",
    "configuration.api_key['Authorization'] = 'MyjBpIrnMbCmsxXJD6zmiOCWqjB3p+7Icq5PRSrN82IXeOppkoEWybx1SmRryxT+'\n",
    "configuration.api_key_prefix['Authorization']='Bearer'\n",
    "api_instance = cfbd.GamesApi(cfbd.ApiClient(configuration))"
   ]
  },
  {
   "cell_type": "code",
   "execution_count": 7,
   "id": "91a023fc",
   "metadata": {},
   "outputs": [],
   "source": [
    "api_response = api_instance.get_games(2024)"
   ]
  },
  {
   "cell_type": "code",
   "execution_count": 71,
   "id": "1dc5118a",
   "metadata": {},
   "outputs": [
    {
     "data": {
      "text/plain": [
       "15"
      ]
     },
     "execution_count": 71,
     "metadata": {},
     "output_type": "execute_result"
    }
   ],
   "source": [
    "api_response[1500].away_line_scores[1]"
   ]
  },
  {
   "cell_type": "code",
   "execution_count": 75,
   "id": "71bf01f5",
   "metadata": {},
   "outputs": [],
   "source": [
    "def parse_multiple_game_data():\n",
    "    combined_game_data=[]\n",
    "    for i in range(2020,2025):\n",
    "        api_response = api_instance.get_games(year=i)\n",
    "        for data in api_response:\n",
    "            # Check if data is None\n",
    "            # Skip to the next game_id\n",
    "\n",
    "            # Create a dictionary to hold the game information\n",
    "            team_info = {\n",
    "                'attendance': data.attendance,\n",
    "                'away_conference': data.away_conference,\n",
    "                'away_division': data.away_division,\n",
    "                'away_id': data.away_id,\n",
    "                'away_points': data.away_points,\n",
    "                'away_post_win_prob': data.away_post_win_prob,\n",
    "                'away_postgame_elo': data.away_postgame_elo,\n",
    "                'away_pregame_elo': data.away_pregame_elo,\n",
    "                'away_team': data.away_team,\n",
    "                'completed': data.completed,\n",
    "                'conference_game': data.conference_game,\n",
    "                'excitement_index': data.excitement_index,\n",
    "                'highlights': data.highlights,\n",
    "                'home_conference': data.home_conference,\n",
    "                'home_division': data.home_division,\n",
    "                'home_id': data.home_id,\n",
    "                'home_points': data.home_points,\n",
    "                'home_post_win_prob': data.home_post_win_prob,\n",
    "                'home_postgame_elo': data.home_postgame_elo,\n",
    "                'home_pregame_elo': data.home_pregame_elo,\n",
    "                'home_team': data.home_team,\n",
    "                'season': data.season,\n",
    "                'season_type': data.season_type,\n",
    "                'start_date': data.start_date,\n",
    "                'start_time_tbd': data.start_time_tbd,\n",
    "                'venue': data.venue,\n",
    "                'venue_id': data.venue_id,\n",
    "                'week': data.week,\n",
    "                'year':i\n",
    "            }\n",
    "            \n",
    "            # c\n",
    "            for i in data.home_line_scores:\n",
    "                try:\n",
    "                    home_line_info={\n",
    "                    'home_line_score1': data.home_line_scores[0],\n",
    "                    'home_line_score2': data.home_line_scores[1],\n",
    "                    'home_line_score3': data.home_line_scores[2],\n",
    "                    'home_line_score4': data.home_line_scores[3],\n",
    "                    }\n",
    "                except:\n",
    "                    away_line_info={\n",
    "                    'away_line_score1': np.NaN,\n",
    "                    'away_line_score2': np.NaN,\n",
    "                    'away_line_score3': np.NaN,\n",
    "                    'away_line_score4': np.NaN}\n",
    "                combined_game_data.append(_line_info)\n",
    "            combined_game_data.append(team_info)\n",
    "\n",
    "        # Convert the list of dictionaries to a DataFrame\n",
    "        pd.DataFrame(combined_game_data).to_sql(f'teams{i}', con, if_exists='replace', index=False)\n"
   ]
  },
  {
   "cell_type": "code",
   "execution_count": null,
   "id": "d2514186",
   "metadata": {},
   "outputs": [],
   "source": []
  },
  {
   "cell_type": "code",
   "execution_count": 76,
   "id": "48ea5dff",
   "metadata": {},
   "outputs": [
    {
     "name": "stdout",
     "output_type": "stream",
     "text": [
      "1\n",
      "2\n",
      "0\n",
      "0\n",
      "7\n",
      "20\n",
      "7\n",
      "6\n",
      "0\n",
      "0\n",
      "0\n",
      "0\n"
     ]
    },
    {
     "ename": "TypeError",
     "evalue": "'NoneType' object is not iterable",
     "output_type": "error",
     "traceback": [
      "\u001b[1;31m---------------------------------------------------------------------------\u001b[0m",
      "\u001b[1;31mTypeError\u001b[0m                                 Traceback (most recent call last)",
      "Cell \u001b[1;32mIn[76], line 1\u001b[0m\n\u001b[1;32m----> 1\u001b[0m parse_multiple_game_data()\n",
      "Cell \u001b[1;32mIn[75], line 42\u001b[0m, in \u001b[0;36mparse_multiple_game_data\u001b[1;34m()\u001b[0m\n\u001b[0;32m      5\u001b[0m \u001b[38;5;28;01mfor\u001b[39;00m data \u001b[38;5;129;01min\u001b[39;00m api_response:\n\u001b[0;32m      6\u001b[0m     \u001b[38;5;66;03m# Check if data is None\u001b[39;00m\n\u001b[0;32m      7\u001b[0m     \u001b[38;5;66;03m# Skip to the next game_id\u001b[39;00m\n\u001b[0;32m      8\u001b[0m \n\u001b[0;32m      9\u001b[0m     \u001b[38;5;66;03m# Create a dictionary to hold the game information\u001b[39;00m\n\u001b[0;32m     10\u001b[0m     team_info \u001b[38;5;241m=\u001b[39m {\n\u001b[0;32m     11\u001b[0m         \u001b[38;5;124m'\u001b[39m\u001b[38;5;124mattendance\u001b[39m\u001b[38;5;124m'\u001b[39m: data\u001b[38;5;241m.\u001b[39mattendance,\n\u001b[0;32m     12\u001b[0m         \u001b[38;5;124m'\u001b[39m\u001b[38;5;124maway_conference\u001b[39m\u001b[38;5;124m'\u001b[39m: data\u001b[38;5;241m.\u001b[39maway_conference,\n\u001b[1;32m   (...)\u001b[0m\n\u001b[0;32m     39\u001b[0m         \u001b[38;5;124m'\u001b[39m\u001b[38;5;124myear\u001b[39m\u001b[38;5;124m'\u001b[39m:i\n\u001b[0;32m     40\u001b[0m     }\n\u001b[1;32m---> 42\u001b[0m     \u001b[38;5;28;01mfor\u001b[39;00m i \u001b[38;5;129;01min\u001b[39;00m data\u001b[38;5;241m.\u001b[39maway_line_scores:\n\u001b[0;32m     43\u001b[0m         \u001b[38;5;28;01mif\u001b[39;00m i \u001b[38;5;129;01mis\u001b[39;00m \u001b[38;5;28;01mNone\u001b[39;00m:\n\u001b[0;32m     44\u001b[0m             away_line_info\u001b[38;5;241m=\u001b[39m{\n\u001b[0;32m     45\u001b[0m             \u001b[38;5;124m'\u001b[39m\u001b[38;5;124maway_line_score1\u001b[39m\u001b[38;5;124m'\u001b[39m: np\u001b[38;5;241m.\u001b[39mNaN,\n\u001b[0;32m     46\u001b[0m             \u001b[38;5;124m'\u001b[39m\u001b[38;5;124maway_line_score2\u001b[39m\u001b[38;5;124m'\u001b[39m: np\u001b[38;5;241m.\u001b[39mNaN,\n\u001b[0;32m     47\u001b[0m             \u001b[38;5;124m'\u001b[39m\u001b[38;5;124maway_line_score3\u001b[39m\u001b[38;5;124m'\u001b[39m: np\u001b[38;5;241m.\u001b[39mNaN,\n\u001b[0;32m     48\u001b[0m             \u001b[38;5;124m'\u001b[39m\u001b[38;5;124maway_line_score4\u001b[39m\u001b[38;5;124m'\u001b[39m: np\u001b[38;5;241m.\u001b[39mNaN}\n",
      "\u001b[1;31mTypeError\u001b[0m: 'NoneType' object is not iterable"
     ]
    }
   ],
   "source": [
    "parse_multiple_game_data()"
   ]
  },
  {
   "cell_type": "code",
   "execution_count": 46,
   "id": "cd85a23b",
   "metadata": {},
   "outputs": [],
   "source": [
    "con=sqlite3.connect('CFBModel/collegeFootball.db')\n",
    "cursor_obj= con.cursor()"
   ]
  }
 ],
 "metadata": {
  "kernelspec": {
   "display_name": "Python 3 (ipykernel)",
   "language": "python",
   "name": "python3"
  },
  "language_info": {
   "codemirror_mode": {
    "name": "ipython",
    "version": 3
   },
   "file_extension": ".py",
   "mimetype": "text/x-python",
   "name": "python",
   "nbconvert_exporter": "python",
   "pygments_lexer": "ipython3",
   "version": "3.11.5"
  }
 },
 "nbformat": 4,
 "nbformat_minor": 5
}
