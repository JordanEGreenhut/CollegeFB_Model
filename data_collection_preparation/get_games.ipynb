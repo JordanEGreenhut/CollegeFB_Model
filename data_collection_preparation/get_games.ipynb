{
 "cells": [
  {
   "cell_type": "code",
   "execution_count": 2,
   "id": "58c1fafa",
   "metadata": {},
   "outputs": [],
   "source": [
    "%run import_modules.ipynb\n",
    "configuration = cfbd.Configuration()\n",
    "configuration.api_key['Authorization'] = 'MyjBpIrnMbCmsxXJD6zmiOCWqjB3p+7Icq5PRSrN82IXeOppkoEWybx1SmRryxT+'\n",
    "configuration.api_key_prefix['Authorization']='Bearer'\n",
    "api_instance = cfbd.GamesApi(cfbd.ApiClient(configuration))"
   ]
  },
  {
   "cell_type": "code",
   "execution_count": 3,
   "id": "ea872390",
   "metadata": {},
   "outputs": [],
   "source": [
    "api_response = api_instance.get_games(2024)"
   ]
  },
  {
   "cell_type": "code",
   "execution_count": 4,
   "id": "1daa92ca",
   "metadata": {},
   "outputs": [
    {
     "data": {
      "text/plain": [
       "7"
      ]
     },
     "execution_count": 4,
     "metadata": {},
     "output_type": "execute_result"
    }
   ],
   "source": [
    "api_response[1500].away_line_scores[1]"
   ]
  },
  {
   "cell_type": "code",
   "execution_count": 6,
   "id": "5aaf1b3d",
   "metadata": {},
   "outputs": [],
   "source": [
    "def parse_multiple_game_data():\n",
    "    combined_game_data=[]\n",
    "    for i in range(2020,2025):\n",
    "        api_response = api_instance.get_games(year=i)\n",
    "        for data in api_response:\n",
    "            # Check if data is None\n",
    "            # Skip to the next game_id\n",
    "\n",
    "            # Create a dictionary to hold the game information\n",
    "            team_info = {\n",
    "                'attendance': data.attendance,\n",
    "                'away_conference': data.away_conference,\n",
    "                'away_division': data.away_division,\n",
    "                'away_id': data.away_id,\n",
    "                'away_points': data.away_points,\n",
    "                'away_post_win_prob': data.away_post_win_prob,\n",
    "                'away_postgame_elo': data.away_postgame_elo,\n",
    "                'away_pregame_elo': data.away_pregame_elo,\n",
    "                'away_team': data.away_team,\n",
    "                'completed': data.completed,\n",
    "                'conference_game': data.conference_game,\n",
    "                'excitement_index': data.excitement_index,\n",
    "                'highlights': data.highlights,\n",
    "                'home_conference': data.home_conference,\n",
    "                'home_division': data.home_division,\n",
    "                'home_id': data.home_id,\n",
    "                'home_points': data.home_points,\n",
    "                'home_post_win_prob': data.home_post_win_prob,\n",
    "                'home_postgame_elo': data.home_postgame_elo,\n",
    "                'home_pregame_elo': data.home_pregame_elo,\n",
    "                'home_team': data.home_team,\n",
    "                'season': data.season,\n",
    "                'season_type': data.season_type,\n",
    "                'start_date': data.start_date,\n",
    "                'start_time_tbd': data.start_time_tbd,\n",
    "                'venue': data.venue,\n",
    "                'venue_id': data.venue_id,\n",
    "                'week': data.week,\n",
    "                'year':i\n",
    "            }\n",
    "            \n",
    "            # comeback for away line and home line, compare to bets to see if even worth it\n",
    "    \n",
    "            combined_game_data.append(team_info)\n",
    "\n",
    "        # Convert the list of dictionaries to a DataFrame\n",
    "        pd.DataFrame(combined_game_data).to_sql(f'Games{i}', con, if_exists='replace', index=False)\n"
   ]
  },
  {
   "cell_type": "code",
   "execution_count": null,
   "id": "99c360d4",
   "metadata": {},
   "outputs": [],
   "source": []
  },
  {
   "cell_type": "code",
   "execution_count": 11,
   "id": "7ec7eeda",
   "metadata": {},
   "outputs": [],
   "source": [
    "parse_multiple_game_data()"
   ]
  },
  {
   "cell_type": "code",
   "execution_count": 9,
   "id": "0547d33b",
   "metadata": {},
   "outputs": [],
   "source": [
    "con=sqlite3.connect('collegeFootball.db')\n",
    "cursor_obj= con.cursor()"
   ]
  },
  {
   "cell_type": "code",
   "execution_count": null,
   "id": "42a32a6d",
   "metadata": {},
   "outputs": [],
   "source": []
  }
 ],
 "metadata": {
  "kernelspec": {
   "display_name": "Python 3 (ipykernel)",
   "language": "python",
   "name": "python3"
  },
  "language_info": {
   "codemirror_mode": {
    "name": "ipython",
    "version": 3
   },
   "file_extension": ".py",
   "mimetype": "text/x-python",
   "name": "python",
   "nbconvert_exporter": "python",
   "pygments_lexer": "ipython3",
   "version": "3.11.5"
  }
 },
 "nbformat": 4,
 "nbformat_minor": 5
}
