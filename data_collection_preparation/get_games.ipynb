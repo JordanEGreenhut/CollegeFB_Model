{
 "cells": [
  {
   "cell_type": "code",
   "execution_count": 4,
   "id": "58c1fafa",
   "metadata": {},
   "outputs": [],
   "source": [
    "%run C:/users/jorda/CFBModel/data_collection_preparation/import_modules.ipynb\n",
    "configuration = cfbd.Configuration()\n",
    "configuration.api_key['Authorization'] = 'MyjBpIrnMbCmsxXJD6zmiOCWqjB3p+7Icq5PRSrN82IXeOppkoEWybx1SmRryxT+'\n",
    "configuration.api_key_prefix['Authorization']='Bearer'\n",
    "api_instance = cfbd.GamesApi(cfbd.ApiClient(configuration))"
   ]
  },
  {
   "cell_type": "code",
   "execution_count": 5,
   "id": "ea872390",
   "metadata": {},
   "outputs": [],
   "source": [
    "api_response = api_instance.get_games(2024)"
   ]
  },
  {
   "cell_type": "code",
   "execution_count": 6,
   "id": "1daa92ca",
   "metadata": {},
   "outputs": [
    {
     "data": {
      "text/plain": [
       "0"
      ]
     },
     "execution_count": 6,
     "metadata": {},
     "output_type": "execute_result"
    }
   ],
   "source": [
    "api_response[1500].away_line_scores[1]"
   ]
  },
  {
   "cell_type": "code",
   "execution_count": 10,
   "id": "5aaf1b3d",
   "metadata": {},
   "outputs": [],
   "source": [
    "def parse_multiple_game_data():\n",
    "    combined_game_data=[]\n",
    "    for i in range(2020,2025):\n",
    "        api_response = api_instance.get_games(year=i)\n",
    "        for data in api_response:\n",
    "            # Check if data is None\n",
    "            # Skip to the next game_id\n",
    "\n",
    "            # Create a dictionary to hold the game information\n",
    "            team_info = {\n",
    "                'attendance': data.attendance,\n",
    "                'away_conference': data.away_conference,\n",
    "                'away_division': data.away_division,\n",
    "                'away_id': data.away_id,\n",
    "                'away_points': data.away_points,\n",
    "                'away_post_win_prob': data.away_post_win_prob,\n",
    "                'away_postgame_elo': data.away_postgame_elo,\n",
    "                'away_pregame_elo': data.away_pregame_elo,\n",
    "                'away_team': data.away_team,\n",
    "                'completed': data.completed,\n",
    "                'conference_game': data.conference_game,\n",
    "                'excitement_index': data.excitement_index,\n",
    "                'highlights': data.highlights,\n",
    "                'home_conference': data.home_conference,\n",
    "                'home_division': data.home_division,\n",
    "                'home_id': data.home_id,\n",
    "                'home_points': data.home_points,\n",
    "                'home_post_win_prob': data.home_post_win_prob,\n",
    "                'home_postgame_elo': data.home_postgame_elo,\n",
    "                'home_pregame_elo': data.home_pregame_elo,\n",
    "                'home_team': data.home_team,\n",
    "                'season': data.season,\n",
    "                'season_type': data.season_type,\n",
    "                'start_date': data.start_date,\n",
    "                'start_time_tbd': data.start_time_tbd,\n",
    "                'venue': data.venue,\n",
    "                'venue_id': data.venue_id,\n",
    "                'week': data.week,\n",
    "                'year':i\n",
    "            }\n",
    "            \n",
    "            # comeback for away line and home line, compare to bets to see if even worth it\n",
    "    \n",
    "            combined_game_data.append(team_info)\n",
    "\n",
    "        # Convert the list of dictionaries to a DataFrame\n",
    "        globals()[f'df_{i}'] = pd.DataFrame(combined_game_data)\n"
   ]
  },
  {
   "cell_type": "code",
   "execution_count": null,
   "id": "99c360d4",
   "metadata": {},
   "outputs": [],
   "source": []
  },
  {
   "cell_type": "code",
   "execution_count": 11,
   "id": "7ec7eeda",
   "metadata": {},
   "outputs": [],
   "source": [
    "parse_multiple_game_data()"
   ]
  },
  {
   "cell_type": "code",
   "execution_count": 12,
   "id": "130304db",
   "metadata": {},
   "outputs": [
    {
     "data": {
      "text/plain": [
       "13870"
      ]
     },
     "execution_count": 12,
     "metadata": {},
     "output_type": "execute_result"
    }
   ],
   "source": [
    "df_2020.to_sql('Games2020',con)\n",
    "df_2021.to_sql('Games2021',con)\n",
    "df_2022.to_sql('Games2022',con)\n",
    "df_2023.to_sql('Games2023',con)\n",
    "df_2024.to_sql('Games2024',con)"
   ]
  },
  {
   "cell_type": "code",
   "execution_count": 15,
   "id": "0547d33b",
   "metadata": {},
   "outputs": [
    {
     "data": {
      "text/plain": [
       "<sqlite3.Cursor at 0x22d1b4fa040>"
      ]
     },
     "execution_count": 15,
     "metadata": {},
     "output_type": "execute_result"
    }
   ],
   "source": [
    "import os\n",
    "os.chdir('C:/users/jorda/CFBModel')\n",
    "con=sqlite3.connect('collegeFootball.db')\n",
    "cursor_obj= con.cursor()\n",
    "cursor_obj.execute(\"DROP TABLE IF EXISTS Games2020\")\n",
    "cursor_obj.execute(\"DROP TABLE IF EXISTS Games2021\")\n",
    "cursor_obj.execute(\"DROP TABLE IF EXISTS Games2022\")\n",
    "cursor_obj.execute(\"DROP TABLE IF EXISTS Games2023\")\n",
    "cursor_obj.execute(\"DROP TABLE IF EXISTS Games2024\")"
   ]
  },
  {
   "cell_type": "code",
   "execution_count": 16,
   "id": "dd444df4",
   "metadata": {},
   "outputs": [
    {
     "data": {
      "text/plain": [
       "<sqlite3.Cursor at 0x22d1b4fa040>"
      ]
     },
     "execution_count": 16,
     "metadata": {},
     "output_type": "execute_result"
    }
   ],
   "source": [
    "cursor_obj.execute(\"DROP TABLE IF EXISTS teams6\")\n",
    "cursor_obj.execute(\"DROP TABLE IF EXISTS teams7\")\n",
    "cursor_obj.execute(\"DROP TABLE IF EXISTS Games23\")\n",
    "cursor_obj.execute(\"DROP TABLE IF EXISTS Games22\")\n",
    "cursor_obj.execute(\"DROP TABLE IF EXISTS Games21\")\n",
    "cursor_obj.execute(\"DROP TABLE IF EXISTS Games20\")"
   ]
  },
  {
   "cell_type": "code",
   "execution_count": 14,
   "id": "7e9314f0",
   "metadata": {},
   "outputs": [],
   "source": [
    "con.commit()\n",
    "con.close()"
   ]
  }
 ],
 "metadata": {
  "kernelspec": {
   "display_name": "Python 3 (ipykernel)",
   "language": "python",
   "name": "python3"
  },
  "language_info": {
   "codemirror_mode": {
    "name": "ipython",
    "version": 3
   },
   "file_extension": ".py",
   "mimetype": "text/x-python",
   "name": "python",
   "nbconvert_exporter": "python",
   "pygments_lexer": "ipython3",
   "version": "3.11.5"
  }
 },
 "nbformat": 4,
 "nbformat_minor": 5
}
