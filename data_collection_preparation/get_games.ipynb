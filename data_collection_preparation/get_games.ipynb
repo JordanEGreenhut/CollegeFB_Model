{
 "cells": [
  {
   "cell_type": "code",
   "execution_count": 38,
   "id": "208b9dc6",
   "metadata": {},
   "outputs": [],
   "source": [
    "%run CFBModel/data_collection_preparation/import_modules.ipynb\n",
    "configuration = cfbd.Configuration()\n",
    "configuration.api_key['Authorization'] = 'MyjBpIrnMbCmsxXJD6zmiOCWqjB3p+7Icq5PRSrN82IXeOppkoEWybx1SmRryxT+'\n",
    "configuration.api_key_prefix['Authorization']='Bearer'\n",
    "api_instance = cfbd.GamesApi(cfbd.ApiClient(configuration))"
   ]
  },
  {
   "cell_type": "code",
   "execution_count": 7,
   "id": "1831d4ae",
   "metadata": {},
   "outputs": [],
   "source": [
    "api_response = api_instance.get_games(2024)"
   ]
  },
  {
   "cell_type": "code",
   "execution_count": 8,
   "id": "c1f7a61c",
   "metadata": {},
   "outputs": [
    {
     "data": {
      "text/plain": [
       "{'attendance': None,\n",
       " 'away_conference': None,\n",
       " 'away_division': None,\n",
       " 'away_id': 108382,\n",
       " 'away_line_scores': [14, 7, 14, 10],\n",
       " 'away_points': 45,\n",
       " 'away_post_win_prob': None,\n",
       " 'away_postgame_elo': None,\n",
       " 'away_pregame_elo': None,\n",
       " 'away_team': 'College of Idaho',\n",
       " 'completed': True,\n",
       " 'conference_game': False,\n",
       " 'excitement_index': None,\n",
       " 'highlights': None,\n",
       " 'home_conference': 'Independent DII',\n",
       " 'home_division': 'ii',\n",
       " 'home_id': 124179,\n",
       " 'home_line_scores': [0, 0, 0, 7],\n",
       " 'home_points': 7,\n",
       " 'home_post_win_prob': None,\n",
       " 'home_postgame_elo': None,\n",
       " 'home_pregame_elo': None,\n",
       " 'home_team': 'Lincoln (CA)',\n",
       " 'id': 401693677,\n",
       " 'neutral_site': True,\n",
       " 'notes': None,\n",
       " 'season': 2024,\n",
       " 'season_type': 'regular',\n",
       " 'start_date': '2024-08-24T04:00:00.000Z',\n",
       " 'start_time_tbd': True,\n",
       " 'venue': None,\n",
       " 'venue_id': None,\n",
       " 'week': 1}"
      ]
     },
     "execution_count": 8,
     "metadata": {},
     "output_type": "execute_result"
    }
   ],
   "source": [
    "api_response[0]"
   ]
  },
  {
   "cell_type": "code",
   "execution_count": 55,
   "id": "aeda0ae2",
   "metadata": {},
   "outputs": [],
   "source": [
    "def parse_multiple_game_data():\n",
    "    combined_game_data=[]\n",
    "    for i in range(2020,2025):\n",
    "        api_response = api_instance.get_games(year=i)\n",
    "        for data in api_response:\n",
    "            # Check if data is None\n",
    "            # Skip to the next game_id\n",
    "\n",
    "            # Create a dictionary to hold the game information\n",
    "            team_info = {\n",
    "                'attendance': data.attendance,\n",
    "                'away_conference': data.away_conference,\n",
    "                'away_division': data.away_division,\n",
    "                'away_id': data.away_id,\n",
    "                'away_line_scores': data.away_line_scores,\n",
    "                'away_points': data.away_points,\n",
    "                'away_post_win_prob': data.away_post_win_prob,\n",
    "                'away_postgame_elo': data.away_postgame_elo,\n",
    "                'away_pregame_elo': data.away_pregame_elo,\n",
    "                'away_team': data.away_team,\n",
    "                'completed': data.completed,\n",
    "                'conference_game': data.conference_game,\n",
    "                'excitement_index': data.excitement_index,\n",
    "                'highlights': data.highlights,\n",
    "                'home_conference': data.home_conference,\n",
    "                'home_division': data.home_division,\n",
    "                'home_id': data.home_id,\n",
    "                'home_line_scores': data.home_line_scores,\n",
    "                'home_points': data.home_points,\n",
    "                'home_post_win_prob': data.home_post_win_prob,\n",
    "                'home_postgame_elo': data.home_postgame_elo,\n",
    "                'home_pregame_elo': data.home_pregame_elo,\n",
    "                'home_team': data.home_team,\n",
    "                'season': data.season,\n",
    "                'season_type': data.season_type,\n",
    "                'start_date': data.start_date,\n",
    "                'start_time_tbd': data.start_time_tbd,\n",
    "                'venue': data.venue,\n",
    "                'venue_id': data.venue_id,\n",
    "                'week': data.week,\n",
    "                'year':i\n",
    "            }\n",
    "\n",
    "            combined_game_data.append(team_info)\n",
    "\n",
    "        # Convert the list of dictionaries to a DataFrame\n",
    "        pd.DataFrame(combined_game_data).to_sql(f'teams{i}', con, if_exists='replace', index=False)\n"
   ]
  },
  {
   "cell_type": "code",
   "execution_count": null,
   "id": "4115f5c3",
   "metadata": {},
   "outputs": [],
   "source": []
  },
  {
   "cell_type": "code",
   "execution_count": 56,
   "id": "765d4a37",
   "metadata": {},
   "outputs": [
    {
     "ename": "ProgrammingError",
     "evalue": "Error binding parameter 5: type 'list' is not supported",
     "output_type": "error",
     "traceback": [
      "\u001b[1;31m---------------------------------------------------------------------------\u001b[0m",
      "\u001b[1;31mProgrammingError\u001b[0m                          Traceback (most recent call last)",
      "Cell \u001b[1;32mIn[56], line 1\u001b[0m\n\u001b[1;32m----> 1\u001b[0m parse_multiple_game_data()\n",
      "Cell \u001b[1;32mIn[55], line 47\u001b[0m, in \u001b[0;36mparse_multiple_game_data\u001b[1;34m()\u001b[0m\n\u001b[0;32m     44\u001b[0m     combined_game_data\u001b[38;5;241m.\u001b[39mappend(team_info)\n\u001b[0;32m     46\u001b[0m \u001b[38;5;66;03m# Convert the list of dictionaries to a DataFrame\u001b[39;00m\n\u001b[1;32m---> 47\u001b[0m pd\u001b[38;5;241m.\u001b[39mDataFrame(combined_game_data)\u001b[38;5;241m.\u001b[39mto_sql(\u001b[38;5;124mf\u001b[39m\u001b[38;5;124m'\u001b[39m\u001b[38;5;124mteams\u001b[39m\u001b[38;5;132;01m{\u001b[39;00mi\u001b[38;5;132;01m}\u001b[39;00m\u001b[38;5;124m'\u001b[39m, con, if_exists\u001b[38;5;241m=\u001b[39m\u001b[38;5;124m'\u001b[39m\u001b[38;5;124mreplace\u001b[39m\u001b[38;5;124m'\u001b[39m, index\u001b[38;5;241m=\u001b[39m\u001b[38;5;28;01mFalse\u001b[39;00m)\n",
      "File \u001b[1;32m~\\anaconda3\\Lib\\site-packages\\pandas\\core\\generic.py:2878\u001b[0m, in \u001b[0;36mNDFrame.to_sql\u001b[1;34m(self, name, con, schema, if_exists, index, index_label, chunksize, dtype, method)\u001b[0m\n\u001b[0;32m   2713\u001b[0m \u001b[38;5;250m\u001b[39m\u001b[38;5;124;03m\"\"\"\u001b[39;00m\n\u001b[0;32m   2714\u001b[0m \u001b[38;5;124;03mWrite records stored in a DataFrame to a SQL database.\u001b[39;00m\n\u001b[0;32m   2715\u001b[0m \n\u001b[1;32m   (...)\u001b[0m\n\u001b[0;32m   2874\u001b[0m \u001b[38;5;124;03m[(1,), (None,), (2,)]\u001b[39;00m\n\u001b[0;32m   2875\u001b[0m \u001b[38;5;124;03m\"\"\"\u001b[39;00m  \u001b[38;5;66;03m# noqa:E501\u001b[39;00m\n\u001b[0;32m   2876\u001b[0m \u001b[38;5;28;01mfrom\u001b[39;00m \u001b[38;5;21;01mpandas\u001b[39;00m\u001b[38;5;21;01m.\u001b[39;00m\u001b[38;5;21;01mio\u001b[39;00m \u001b[38;5;28;01mimport\u001b[39;00m sql\n\u001b[1;32m-> 2878\u001b[0m \u001b[38;5;28;01mreturn\u001b[39;00m sql\u001b[38;5;241m.\u001b[39mto_sql(\n\u001b[0;32m   2879\u001b[0m     \u001b[38;5;28mself\u001b[39m,\n\u001b[0;32m   2880\u001b[0m     name,\n\u001b[0;32m   2881\u001b[0m     con,\n\u001b[0;32m   2882\u001b[0m     schema\u001b[38;5;241m=\u001b[39mschema,\n\u001b[0;32m   2883\u001b[0m     if_exists\u001b[38;5;241m=\u001b[39mif_exists,\n\u001b[0;32m   2884\u001b[0m     index\u001b[38;5;241m=\u001b[39mindex,\n\u001b[0;32m   2885\u001b[0m     index_label\u001b[38;5;241m=\u001b[39mindex_label,\n\u001b[0;32m   2886\u001b[0m     chunksize\u001b[38;5;241m=\u001b[39mchunksize,\n\u001b[0;32m   2887\u001b[0m     dtype\u001b[38;5;241m=\u001b[39mdtype,\n\u001b[0;32m   2888\u001b[0m     method\u001b[38;5;241m=\u001b[39mmethod,\n\u001b[0;32m   2889\u001b[0m )\n",
      "File \u001b[1;32m~\\anaconda3\\Lib\\site-packages\\pandas\\io\\sql.py:769\u001b[0m, in \u001b[0;36mto_sql\u001b[1;34m(frame, name, con, schema, if_exists, index, index_label, chunksize, dtype, method, engine, **engine_kwargs)\u001b[0m\n\u001b[0;32m    764\u001b[0m     \u001b[38;5;28;01mraise\u001b[39;00m \u001b[38;5;167;01mNotImplementedError\u001b[39;00m(\n\u001b[0;32m    765\u001b[0m         \u001b[38;5;124m\"\u001b[39m\u001b[38;5;124m'\u001b[39m\u001b[38;5;124mframe\u001b[39m\u001b[38;5;124m'\u001b[39m\u001b[38;5;124m argument should be either a Series or a DataFrame\u001b[39m\u001b[38;5;124m\"\u001b[39m\n\u001b[0;32m    766\u001b[0m     )\n\u001b[0;32m    768\u001b[0m \u001b[38;5;28;01mwith\u001b[39;00m pandasSQL_builder(con, schema\u001b[38;5;241m=\u001b[39mschema, need_transaction\u001b[38;5;241m=\u001b[39m\u001b[38;5;28;01mTrue\u001b[39;00m) \u001b[38;5;28;01mas\u001b[39;00m pandas_sql:\n\u001b[1;32m--> 769\u001b[0m     \u001b[38;5;28;01mreturn\u001b[39;00m pandas_sql\u001b[38;5;241m.\u001b[39mto_sql(\n\u001b[0;32m    770\u001b[0m         frame,\n\u001b[0;32m    771\u001b[0m         name,\n\u001b[0;32m    772\u001b[0m         if_exists\u001b[38;5;241m=\u001b[39mif_exists,\n\u001b[0;32m    773\u001b[0m         index\u001b[38;5;241m=\u001b[39mindex,\n\u001b[0;32m    774\u001b[0m         index_label\u001b[38;5;241m=\u001b[39mindex_label,\n\u001b[0;32m    775\u001b[0m         schema\u001b[38;5;241m=\u001b[39mschema,\n\u001b[0;32m    776\u001b[0m         chunksize\u001b[38;5;241m=\u001b[39mchunksize,\n\u001b[0;32m    777\u001b[0m         dtype\u001b[38;5;241m=\u001b[39mdtype,\n\u001b[0;32m    778\u001b[0m         method\u001b[38;5;241m=\u001b[39mmethod,\n\u001b[0;32m    779\u001b[0m         engine\u001b[38;5;241m=\u001b[39mengine,\n\u001b[0;32m    780\u001b[0m         \u001b[38;5;241m*\u001b[39m\u001b[38;5;241m*\u001b[39mengine_kwargs,\n\u001b[0;32m    781\u001b[0m     )\n",
      "File \u001b[1;32m~\\anaconda3\\Lib\\site-packages\\pandas\\io\\sql.py:2379\u001b[0m, in \u001b[0;36mSQLiteDatabase.to_sql\u001b[1;34m(self, frame, name, if_exists, index, index_label, schema, chunksize, dtype, method, engine, **engine_kwargs)\u001b[0m\n\u001b[0;32m   2369\u001b[0m table \u001b[38;5;241m=\u001b[39m SQLiteTable(\n\u001b[0;32m   2370\u001b[0m     name,\n\u001b[0;32m   2371\u001b[0m     \u001b[38;5;28mself\u001b[39m,\n\u001b[1;32m   (...)\u001b[0m\n\u001b[0;32m   2376\u001b[0m     dtype\u001b[38;5;241m=\u001b[39mdtype,\n\u001b[0;32m   2377\u001b[0m )\n\u001b[0;32m   2378\u001b[0m table\u001b[38;5;241m.\u001b[39mcreate()\n\u001b[1;32m-> 2379\u001b[0m \u001b[38;5;28;01mreturn\u001b[39;00m table\u001b[38;5;241m.\u001b[39minsert(chunksize, method)\n",
      "File \u001b[1;32m~\\anaconda3\\Lib\\site-packages\\pandas\\io\\sql.py:1023\u001b[0m, in \u001b[0;36mSQLTable.insert\u001b[1;34m(self, chunksize, method)\u001b[0m\n\u001b[0;32m   1020\u001b[0m     \u001b[38;5;28;01mbreak\u001b[39;00m\n\u001b[0;32m   1022\u001b[0m chunk_iter \u001b[38;5;241m=\u001b[39m \u001b[38;5;28mzip\u001b[39m(\u001b[38;5;241m*\u001b[39m(arr[start_i:end_i] \u001b[38;5;28;01mfor\u001b[39;00m arr \u001b[38;5;129;01min\u001b[39;00m data_list))\n\u001b[1;32m-> 1023\u001b[0m num_inserted \u001b[38;5;241m=\u001b[39m exec_insert(conn, keys, chunk_iter)\n\u001b[0;32m   1024\u001b[0m \u001b[38;5;66;03m# GH 46891\u001b[39;00m\n\u001b[0;32m   1025\u001b[0m \u001b[38;5;28;01mif\u001b[39;00m is_integer(num_inserted):\n",
      "File \u001b[1;32m~\\anaconda3\\Lib\\site-packages\\pandas\\io\\sql.py:2075\u001b[0m, in \u001b[0;36mSQLiteTable._execute_insert\u001b[1;34m(self, conn, keys, data_iter)\u001b[0m\n\u001b[0;32m   2073\u001b[0m \u001b[38;5;28;01mdef\u001b[39;00m \u001b[38;5;21m_execute_insert\u001b[39m(\u001b[38;5;28mself\u001b[39m, conn, keys, data_iter) \u001b[38;5;241m-\u001b[39m\u001b[38;5;241m>\u001b[39m \u001b[38;5;28mint\u001b[39m:\n\u001b[0;32m   2074\u001b[0m     data_list \u001b[38;5;241m=\u001b[39m \u001b[38;5;28mlist\u001b[39m(data_iter)\n\u001b[1;32m-> 2075\u001b[0m     conn\u001b[38;5;241m.\u001b[39mexecutemany(\u001b[38;5;28mself\u001b[39m\u001b[38;5;241m.\u001b[39minsert_statement(num_rows\u001b[38;5;241m=\u001b[39m\u001b[38;5;241m1\u001b[39m), data_list)\n\u001b[0;32m   2076\u001b[0m     \u001b[38;5;28;01mreturn\u001b[39;00m conn\u001b[38;5;241m.\u001b[39mrowcount\n",
      "\u001b[1;31mProgrammingError\u001b[0m: Error binding parameter 5: type 'list' is not supported"
     ]
    }
   ],
   "source": [
    "parse_multiple_game_data()"
   ]
  },
  {
   "cell_type": "code",
   "execution_count": 46,
   "id": "4fbbb703",
   "metadata": {},
   "outputs": [],
   "source": [
    "con=sqlite3.connect('CFBModel/collegeFootball.db')\n",
    "cursor_obj= con.cursor()"
   ]
  }
 ],
 "metadata": {
  "kernelspec": {
   "display_name": "Python 3 (ipykernel)",
   "language": "python",
   "name": "python3"
  },
  "language_info": {
   "codemirror_mode": {
    "name": "ipython",
    "version": 3
   },
   "file_extension": ".py",
   "mimetype": "text/x-python",
   "name": "python",
   "nbconvert_exporter": "python",
   "pygments_lexer": "ipython3",
   "version": "3.11.5"
  }
 },
 "nbformat": 4,
 "nbformat_minor": 5
}
