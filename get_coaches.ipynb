{
 "cells": [
  {
   "cell_type": "code",
   "execution_count": 41,
   "id": "52a95503",
   "metadata": {},
   "outputs": [],
   "source": [
    "%run CFBmodel/import_modules.ipynb\n",
    "configuration = cfbd.Configuration()\n",
    "configuration.api_key['Authorization'] = 'MyjBpIrnMbCmsxXJD6zmiOCWqjB3p+7Icq5PRSrN82IXeOppkoEWybx1SmRryxT+'\n",
    "configuration.api_key_prefix['Authorization']='Bearer'\n",
    "api_instance = cfbd.CoachesApi(cfbd.ApiClient(configuration))\n",
    "# game_id=game_id  season_type=season_type, team=team, home=home, away=away, conference=conference)"
   ]
  },
  {
   "cell_type": "code",
   "execution_count": 47,
   "id": "a08fc567",
   "metadata": {},
   "outputs": [],
   "source": [
    "coaches24 = api_instance.get_coaches(year=2024)\n"
   ]
  },
  {
   "cell_type": "code",
   "execution_count": 48,
   "id": "d3b6fd1c",
   "metadata": {},
   "outputs": [
    {
     "data": {
      "text/plain": [
       "[{'games': 0,\n",
       "  'losses': 0,\n",
       "  'postseason_rank': None,\n",
       "  'preseason_rank': None,\n",
       "  'school': 'Ohio',\n",
       "  'sp_defense': 28.1,\n",
       "  'sp_offense': 17.5,\n",
       "  'sp_overall': -10.8,\n",
       "  'srs': -10.7,\n",
       "  'ties': 0,\n",
       "  'wins': 0,\n",
       "  'year': '2024'}]"
      ]
     },
     "execution_count": 48,
     "metadata": {},
     "output_type": "execute_result"
    }
   ],
   "source": [
    "coaches24[0].seasons"
   ]
  },
  {
   "cell_type": "code",
   "execution_count": 52,
   "id": "a8206d67",
   "metadata": {},
   "outputs": [],
   "source": [
    "import pandas as pd\n",
    "\n",
    "def get_coaches(start):\n",
    "    combined_data = []  # List to collect game data\n",
    "\n",
    "    for j in range(start, 2025):  # Loop through weeks\n",
    "        coach_data = api_instance.get_coaches(year=j)\n",
    "\n",
    "        for coach in coach_data:\n",
    "            # Compile all data into a single dictionary for each line\n",
    "            game_info = {\n",
    "                    'first_name': coach.first_name,\n",
    "                    'hire_date': coach.hire_date,\n",
    "                    'season_type': coach.last_name,\n",
    "                    'year': j,\n",
    "                     'games': coach.seasons[0].games,\n",
    "                   'losses': coach.seasons[0].losses,\n",
    "                   'postseason_rank': coach.seasons[0].postseason_rank,\n",
    "                   'preseason_rank': coach.seasons[0].preseason_rank,\n",
    "                   'school': coach.seasons[0].school,\n",
    "                   'sp_defense':coach.seasons[0].sp_defense,\n",
    "                   'sp_offense': coach.seasons[0].sp_offense,\n",
    "                   'sp_overall': coach.seasons[0].sp_overall\n",
    "                }\n",
    "            combined_data.append(game_info)\n",
    "            i=0\n",
    "            for season in coach.seasons:\n",
    "                coach_info = {\n",
    "                     'games{}'.format(i): coach.seasons[0].games,\n",
    "                   'losses{}'.format(i): coach.seasons[0].losses,\n",
    "                   'postseason_rank{}'.format(i): coach.seasons[0].postseason_rank,\n",
    "                   'preseason_rank{}'.format(i): coach.seasons[0].preseason_rank,\n",
    "                   'school{}'.format(i): coach.seasons[0].school,\n",
    "                   'sp_defense{}'.format(i):coach.seasons[0].sp_defense,\n",
    "                   'sp_offense{}'.format(i): coach.seasons[0].sp_offense,\n",
    "                   'sp_overall{}'.format(i): coach.seasons[0].sp_overall\n",
    "                }\n",
    "                i=i+1\n",
    "                combined_data.append(coach_info)  # Append the dictionary to the list\n",
    "\n",
    "    # Create a DataFrame from the list of dictionaries\n",
    "    df = pd.DataFrame(combined_data)\n",
    "    return df"
   ]
  },
  {
   "cell_type": "code",
   "execution_count": 55,
   "id": "a2a7c7cb",
   "metadata": {},
   "outputs": [],
   "source": [
    "coachHist=get_coaches(start=1980)"
   ]
  },
  {
   "cell_type": "code",
   "execution_count": 60,
   "id": "87ba4b7e",
   "metadata": {},
   "outputs": [
    {
     "data": {
      "text/plain": [
       "sp_offense0\n",
       "32.0    57\n",
       "34.2    52\n",
       "27.8    52\n",
       "24.5    48\n",
       "29.9    47\n",
       "        ..\n",
       "43.7     1\n",
       "46.4     1\n",
       "49.6     1\n",
       "13.9     1\n",
       "12.4     1\n",
       "Name: count, Length: 410, dtype: int64"
      ]
     },
     "execution_count": 60,
     "metadata": {},
     "output_type": "execute_result"
    }
   ],
   "source": [
    "coachHist.sp_offense0.value_counts()"
   ]
  },
  {
   "cell_type": "code",
   "execution_count": 61,
   "id": "bcfb0041",
   "metadata": {},
   "outputs": [
    {
     "data": {
      "text/plain": [
       "10796"
      ]
     },
     "execution_count": 61,
     "metadata": {},
     "output_type": "execute_result"
    }
   ],
   "source": [
    "con=sqlite3.connect('CFBModel/collegeFootball.db')\n",
    "cursor_obj= con.cursor()\n",
    "cursor_obj.execute(\"DROP TABLE IF EXISTS coachHist\")\n",
    "coachHist.to_sql(name='coachHist',con=con)"
   ]
  },
  {
   "cell_type": "code",
   "execution_count": 62,
   "id": "16907340",
   "metadata": {},
   "outputs": [],
   "source": [
    "con.commit()\n",
    "con.close()"
   ]
  }
 ],
 "metadata": {
  "kernelspec": {
   "display_name": "Python 3 (ipykernel)",
   "language": "python",
   "name": "python3"
  },
  "language_info": {
   "codemirror_mode": {
    "name": "ipython",
    "version": 3
   },
   "file_extension": ".py",
   "mimetype": "text/x-python",
   "name": "python",
   "nbconvert_exporter": "python",
   "pygments_lexer": "ipython3",
   "version": "3.11.5"
  }
 },
 "nbformat": 4,
 "nbformat_minor": 5
}
