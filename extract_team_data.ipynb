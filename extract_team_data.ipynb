{
 "cells": [
  {
   "cell_type": "code",
   "execution_count": 3,
   "id": "e698d062",
   "metadata": {},
   "outputs": [],
   "source": [
    "import pandas as pd\n",
    "from concurrent.futures import ThreadPoolExecutor\n",
    "\n",
    "def process_game(game):\n",
    "    \"\"\"\n",
    "    Processes a single game's data into a list of dictionaries.\n",
    "\n",
    "    :param game: A game object containing team data.\n",
    "    :return: List of dictionaries with team statistics for the game.\n",
    "    \"\"\"\n",
    "    game_id = game.id\n",
    "    teams_data = []\n",
    "\n",
    "    for team in game.teams:\n",
    "        stats_dict = {stat.category: stat.stat for stat in team.stats}\n",
    "        teams_data.append({\n",
    "            'game_id': game_id,\n",
    "            'team_id': team.school_id,\n",
    "            'team_name': team.school,\n",
    "            'home_away': team.home_away,\n",
    "            'points': team.points,\n",
    "            **stats_dict\n",
    "        })\n",
    "\n",
    "    return teams_data\n",
    "\n",
    "def extract_team_data(year, week):\n",
    "    \"\"\"\n",
    "    Extracts team statistics and converts them directly into a DataFrame.\n",
    "\n",
    "    :param year: Year of the game data.\n",
    "    :param week: Week of the game data.\n",
    "    :return: DataFrame containing extracted team statistics for each game.\n",
    "    \"\"\"\n",
    "    # Retrieve game data from the API\n",
    "    game_data = api_instance.get_team_game_stats(year=year, week=week)\n",
    "\n",
    "    # Use parallel processing to handle the games\n",
    "    with ThreadPoolExecutor() as executor:\n",
    "        results = list(executor.map(process_game, game_data))\n",
    "    \n",
    "    # Flatten the list of lists\n",
    "    flattened_results = [item for sublist in results for item in sublist]\n",
    "    \n",
    "    # Create DataFrame directly from the processed data\n",
    "    df = pd.DataFrame(flattened_results).fillna(0)  # Replace NaNs with 0 if needed\n",
    "\n",
    "    return df"
   ]
  },
  {
   "cell_type": "code",
   "execution_count": 6,
   "id": "175ae899",
   "metadata": {},
   "outputs": [],
   "source": [
    "%run import_modules.ipynb\n",
    "df=extract_team_data(year=2023, week=1)"
   ]
  },
  {
   "cell_type": "code",
   "execution_count": null,
   "id": "87e36a73",
   "metadata": {},
   "outputs": [],
   "source": []
  }
 ],
 "metadata": {
  "kernelspec": {
   "display_name": "Python 3 (ipykernel)",
   "language": "python",
   "name": "python3"
  },
  "language_info": {
   "codemirror_mode": {
    "name": "ipython",
    "version": 3
   },
   "file_extension": ".py",
   "mimetype": "text/x-python",
   "name": "python",
   "nbconvert_exporter": "python",
   "pygments_lexer": "ipython3",
   "version": "3.11.5"
  }
 },
 "nbformat": 4,
 "nbformat_minor": 5
}
