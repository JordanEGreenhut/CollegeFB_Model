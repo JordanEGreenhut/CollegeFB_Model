{
 "cells": [
  {
   "cell_type": "code",
   "execution_count": 9,
   "id": "7f2884c0",
   "metadata": {},
   "outputs": [],
   "source": [
    "def extract_team_data(year, week):\n",
    "    \"\"\"\n",
    "    Extracts team statistics and converts them directly into a DataFrame.\n",
    "    \n",
    "    :param year: Year of the game data.\n",
    "    :param week: Week of the game data.\n",
    "    :return: DataFrame containing extracted team statistics for each game.\n",
    "    \"\"\"\n",
    "    # Retrieve game data from the API\n",
    "    game_data = api_instance.get_team_game_stats(year=year, week=week)\n",
    "\n",
    "    # Initialize lists to store column values\n",
    "    game_ids = []\n",
    "    team_ids = []\n",
    "    team_names = []\n",
    "    home_aways = []\n",
    "    points = []\n",
    "    additional_stats = []\n",
    "    \n",
    "    for game in game_data:\n",
    "        game_id = game.id\n",
    "        teams = game.teams\n",
    "        \n",
    "        for team in teams:\n",
    "            # Collect basic team information\n",
    "            game_ids.append(game_id)\n",
    "            team_ids.append(team.school_id)\n",
    "            team_names.append(team.school)\n",
    "            home_aways.append(team.home_away)\n",
    "            points.append(team.points)\n",
    "\n",
    "            # Collect additional statistics\n",
    "            stats_dict = {stat.category: stat.stat for stat in team.stats}\n",
    "            additional_stats.append(stats_dict)\n",
    "    \n",
    "    # Create a DataFrame directly from the collected data\n",
    "    df = pd.DataFrame({\n",
    "        'game_id': game_ids,\n",
    "        'team_id': team_ids,\n",
    "        'team_name': team_names,\n",
    "        'home_away': home_aways,\n",
    "        'points': points,\n",
    "    })\n",
    "    \n",
    "    # Convert additional stats into a DataFrame and join with the main DataFrame\n",
    "    stats_df = pd.DataFrame(additional_stats).fillna(0)  # Replace NaNs with 0 if needed\n",
    "    df = pd.concat([df, stats_df], axis=1)\n",
    "    \n",
    "    return df"
   ]
  }
 ],
 "metadata": {
  "kernelspec": {
   "display_name": "Python 3 (ipykernel)",
   "language": "python",
   "name": "python3"
  },
  "language_info": {
   "codemirror_mode": {
    "name": "ipython",
    "version": 3
   },
   "file_extension": ".py",
   "mimetype": "text/x-python",
   "name": "python",
   "nbconvert_exporter": "python",
   "pygments_lexer": "ipython3",
   "version": "3.11.5"
  }
 },
 "nbformat": 4,
 "nbformat_minor": 5
}
