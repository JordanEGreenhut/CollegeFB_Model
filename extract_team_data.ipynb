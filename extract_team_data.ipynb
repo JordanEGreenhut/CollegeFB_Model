{
 "cells": [
  {
   "cell_type": "markdown",
   "id": "19a98a68",
   "metadata": {},
   "source": [
    "### extract_team_data"
   ]
  },
  {
   "cell_type": "code",
   "execution_count": 2,
   "id": "7571ab29",
   "metadata": {},
   "outputs": [],
   "source": [
    "# Updated extract_team_data to process game_data directly\n",
    "def extract_team_data(game_data, week):\n",
    "    \"\"\"\n",
    "    Extracts team statistics and converts them directly into a DataFrame.\n",
    "\n",
    "    :param game_data: The result of the API call containing game data.\n",
    "    :param week: The week of the game data.\n",
    "    :return: DataFrame containing extracted team statistics for each game.\n",
    "    \"\"\"\n",
    "    # Use parallel processing to handle the games\n",
    "    with ThreadPoolExecutor() as executor:\n",
    "        results = list(executor.map(lambda game: process_game(game, week), game_data))\n",
    "    \n",
    "    # Flatten the list of lists\n",
    "    flattened_results = [item for sublist in results for item in sublist]\n",
    "    \n",
    "    # Create DataFrame directly from the processed data\n",
    "    df = pd.DataFrame(flattened_results).fillna(0)  # Replace NaNs with 0 if needed\n",
    "    return df\n"
   ]
  },
  {
   "cell_type": "code",
   "execution_count": null,
   "id": "862a041e",
   "metadata": {},
   "outputs": [],
   "source": []
  }
 ],
 "metadata": {
  "kernelspec": {
   "display_name": "Python 3 (ipykernel)",
   "language": "python",
   "name": "python3"
  },
  "language_info": {
   "codemirror_mode": {
    "name": "ipython",
    "version": 3
   },
   "file_extension": ".py",
   "mimetype": "text/x-python",
   "name": "python",
   "nbconvert_exporter": "python",
   "pygments_lexer": "ipython3",
   "version": "3.11.5"
  }
 },
 "nbformat": 4,
 "nbformat_minor": 5
}
