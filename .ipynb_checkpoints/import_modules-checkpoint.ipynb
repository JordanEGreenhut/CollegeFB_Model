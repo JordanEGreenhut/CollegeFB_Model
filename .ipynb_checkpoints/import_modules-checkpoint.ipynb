{
 "cells": [
  {
   "cell_type": "markdown",
   "id": "386c97ba",
   "metadata": {},
   "source": [
    "### import_modules"
   ]
  },
  {
   "cell_type": "code",
   "execution_count": 16,
   "id": "2ec66b92",
   "metadata": {},
   "outputs": [],
   "source": [
    "from concurrent.futures import ThreadPoolExecutor\n",
    "import numpy as np\n",
    "import cfbd\n",
    "from cfbd.rest import ApiException\n",
    "import pandas as pd\n",
    "import sqlite3"
   ]
  }
 ],
 "metadata": {
  "kernelspec": {
   "display_name": "Python 3 (ipykernel)",
   "language": "python",
   "name": "python3"
  },
  "language_info": {
   "codemirror_mode": {
    "name": "ipython",
    "version": 3
   },
   "file_extension": ".py",
   "mimetype": "text/x-python",
   "name": "python",
   "nbconvert_exporter": "python",
   "pygments_lexer": "ipython3",
   "version": "3.11.5"
  }
 },
 "nbformat": 4,
 "nbformat_minor": 5
}
