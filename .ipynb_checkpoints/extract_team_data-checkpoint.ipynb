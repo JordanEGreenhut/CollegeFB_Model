{
 "cells": [
  {
   "cell_type": "code",
   "execution_count": 1,
   "id": "6494b3fc",
   "metadata": {},
   "outputs": [],
   "source": [
    "import cfbd\n",
    "from cfbd.rest import ApiException\n",
    "import pandas as pd\n",
    "import sqlite3"
   ]
  },
  {
   "cell_type": "code",
   "execution_count": 2,
   "id": "7f2884c0",
   "metadata": {},
   "outputs": [],
   "source": [
    "def extract_team_data(year,week):\n",
    "    \"\"\"\n",
    "    Extracts team statistics from a list of game data and converts it into a DataFrame.\n",
    "    \n",
    "    This function processes each game in the provided list, extracts information about each team,\n",
    "    including their IDs, names, home/away status, points scored, and other statistical categories.\n",
    "    The resulting data is then normalized into a DataFrame for easier analysis.\n",
    "    \n",
    "    :param game_data: List of game objects, where each game object contains details about the game\n",
    "                      and its participating teams.\n",
    "    :return: DataFrame containing extracted team statistics for each game.\n",
    "    \"\"\"\n",
    "    game_stats=[] # Initialize a list to store statistics for each team\n",
    "   \n",
    "    game_data = api_instance.get_team_game_stats(year=year, week=week)\n",
    "    for game in game_data:\n",
    "        game_id=game.id # Extract the unique identifier for the game\n",
    "        teams=game.teams # Get the list of teams involved in the game\n",
    "        \n",
    "        # Iterate through each team in the game\n",
    "        for team in teams:\n",
    "            team_id = team.school_id # Extract the unique identifier for the team\n",
    "            team_name = team.school # Extract the name of the team\n",
    "            home_away = team.home_away # Determine if the team is playing at home or away\n",
    "\n",
    "            team_stats = {\n",
    "                'game_id': game_id,\n",
    "                'team_id': team_id,\n",
    "                'team_name': team_name,\n",
    "                'home_away': home_away,\n",
    "                'points': team.points # Extract the points scored by the team\n",
    "                }\n",
    "                # Add stats to the dictionary\n",
    "            for stat in team.stats:\n",
    "                category = stat.category\n",
    "                value = stat.stat\n",
    "                team_stats[category] = value\n",
    "                # Append the team's stats to the list of game statistics\n",
    "            game_stats.append(team_stats)\n",
    "    # Concatenate the weekly data into the final DataFrame\n",
    "    return pd.json_normalize(game_stats)"
   ]
  },
  {
   "cell_type": "code",
   "execution_count": null,
   "id": "3b192c41",
   "metadata": {},
   "outputs": [],
   "source": [
    "con=sqlite3.connect('collegeFootball.db')\n",
    "cursor_obj= con.cursor()\n",
    "cursor_obj.execute(\"DROP TABLE IF EXISTS teamStats23\")\n",
    "allWks.to_sql(name='teamStats23',con=con)"
   ]
  },
  {
   "cell_type": "code",
   "execution_count": null,
   "id": "6a1f0b9e",
   "metadata": {},
   "outputs": [],
   "source": [
    "allWks=pd.concat([extract_team_data(year=2023,week=i) for i in range(1,17)])"
   ]
  }
 ],
 "metadata": {
  "kernelspec": {
   "display_name": "Python 3 (ipykernel)",
   "language": "python",
   "name": "python3"
  },
  "language_info": {
   "codemirror_mode": {
    "name": "ipython",
    "version": 3
   },
   "file_extension": ".py",
   "mimetype": "text/x-python",
   "name": "python",
   "nbconvert_exporter": "python",
   "pygments_lexer": "ipython3",
   "version": "3.11.5"
  }
 },
 "nbformat": 4,
 "nbformat_minor": 5
}
