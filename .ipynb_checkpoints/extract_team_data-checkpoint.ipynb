{
 "cells": [
  {
   "cell_type": "markdown",
   "id": "19a98a68",
   "metadata": {},
   "source": [
    "### extract_team_data"
   ]
  },
  {
   "cell_type": "code",
   "execution_count": 2,
   "id": "7571ab29",
   "metadata": {},
   "outputs": [],
   "source": [
    "def extract_team_data(year, week):\n",
    "    \"\"\"\n",
    "    Extracts team statistics and converts them directly into a DataFrame.\n",
    "\n",
    "    :param year: Year of the game data.\n",
    "    :param week: Week of the game data.\n",
    "    :return: DataFrame containing extracted team statistics for each game.\n",
    "    \"\"\"\n",
    "    # Retrieve game data from the API\n",
    "    game_data = api_instance.get_team_game_stats(year=year, week=week)\n",
    "\n",
    "    # Use parallel processing to handle the games\n",
    "    with ThreadPoolExecutor() as executor:\n",
    "        results = list(executor.map(process_game, game_data))\n",
    "    \n",
    "    # Flatten the list of lists\n",
    "    flattened_results = [item for sublist in results for item in sublist]\n",
    "    \n",
    "    # Create DataFrame directly from the processed data\n",
    "    df = pd.DataFrame(flattened_results).fillna(0)  # Replace NaNs with 0 if needed\n",
    "\n",
    "    return df"
   ]
  }
 ],
 "metadata": {
  "kernelspec": {
   "display_name": "Python 3 (ipykernel)",
   "language": "python",
   "name": "python3"
  },
  "language_info": {
   "codemirror_mode": {
    "name": "ipython",
    "version": 3
   },
   "file_extension": ".py",
   "mimetype": "text/x-python",
   "name": "python",
   "nbconvert_exporter": "python",
   "pygments_lexer": "ipython3",
   "version": "3.11.5"
  }
 },
 "nbformat": 4,
 "nbformat_minor": 5
}
