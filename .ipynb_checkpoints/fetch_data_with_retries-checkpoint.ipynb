{
 "cells": [
  {
   "cell_type": "markdown",
   "id": "8140aa82",
   "metadata": {},
   "source": [
    "fetch_data_with_retries"
   ]
  },
  {
   "cell_type": "code",
   "execution_count": 1,
   "id": "7ada8164",
   "metadata": {},
   "outputs": [],
   "source": [
    "# Define retry logic for API calls\n",
    "def fetch_data_with_retries(api_call, retries=5, backoff_in_seconds=2):\n",
    "    \"\"\"\n",
    "    Fetches data with retries in case of temporary issues.\n",
    "\n",
    "    :param api_call: A function to call the API.\n",
    "    :param retries: Number of retries before giving up.\n",
    "    :param backoff_in_seconds: Initial backoff time between retries.\n",
    "    :return: The result of the API call.\n",
    "    \"\"\"\n",
    "    for attempt in range(retries):\n",
    "        try:\n",
    "            return api_call()\n",
    "        except HTTPError as e:\n",
    "            if e.response.status_code == 503:\n",
    "                # Server is temporarily unavailable, retry with exponential backoff\n",
    "                sleep_time = backoff_in_seconds * (2 ** attempt) + random.uniform(0, 1)\n",
    "                print(f\"503 Error encountered. Retrying in {sleep_time:.2f} seconds...\")\n",
    "                time.sleep(sleep_time)\n",
    "            else:\n",
    "                raise e\n",
    "    raise Exception(\"Max retries exceeded\")"
   ]
  }
 ],
 "metadata": {
  "kernelspec": {
   "display_name": "Python 3 (ipykernel)",
   "language": "python",
   "name": "python3"
  },
  "language_info": {
   "codemirror_mode": {
    "name": "ipython",
    "version": 3
   },
   "file_extension": ".py",
   "mimetype": "text/x-python",
   "name": "python",
   "nbconvert_exporter": "python",
   "pygments_lexer": "ipython3",
   "version": "3.11.5"
  }
 },
 "nbformat": 4,
 "nbformat_minor": 5
}
