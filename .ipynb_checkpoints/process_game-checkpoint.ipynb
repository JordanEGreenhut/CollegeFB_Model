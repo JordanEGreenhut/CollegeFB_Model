{
 "cells": [
  {
   "cell_type": "markdown",
   "id": "c2b9829a",
   "metadata": {},
   "source": [
    "### process_game"
   ]
  },
  {
   "cell_type": "code",
   "execution_count": 18,
   "id": "e698d062",
   "metadata": {},
   "outputs": [],
   "source": [
    "def process_game(game):\n",
    "    \"\"\"\n",
    "    Processes a single game's data into a list of dictionaries.\n",
    "\n",
    "    :param game: A game object containing team data.\n",
    "    :return: List of dictionaries with team statistics for the game.\n",
    "    \"\"\"\n",
    "    game_id = game.id\n",
    "    teams_data = []\n",
    "\n",
    "    for team in game.teams:\n",
    "        stats_dict = {stat.category: stat.stat for stat in team.stats}\n",
    "        teams_data.append({\n",
    "            'game_id': game_id,\n",
    "            'team_id': team.school_id,\n",
    "            'team_name': team.school,\n",
    "            'home_away': team.home_away,\n",
    "            'points': team.points,\n",
    "            **stats_dict\n",
    "        })\n",
    "\n",
    "    return teams_data"
   ]
  }
 ],
 "metadata": {
  "kernelspec": {
   "display_name": "Python 3 (ipykernel)",
   "language": "python",
   "name": "python3"
  },
  "language_info": {
   "codemirror_mode": {
    "name": "ipython",
    "version": 3
   },
   "file_extension": ".py",
   "mimetype": "text/x-python",
   "name": "python",
   "nbconvert_exporter": "python",
   "pygments_lexer": "ipython3",
   "version": "3.11.5"
  }
 },
 "nbformat": 4,
 "nbformat_minor": 5
}
