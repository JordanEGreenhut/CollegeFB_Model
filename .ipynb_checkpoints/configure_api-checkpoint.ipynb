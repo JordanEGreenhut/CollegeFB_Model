{
 "cells": [
  {
   "cell_type": "markdown",
   "id": "26b4aad2",
   "metadata": {},
   "source": [
    "### configure_API"
   ]
  },
  {
   "cell_type": "code",
   "execution_count": 4,
   "id": "1a232ad2",
   "metadata": {},
   "outputs": [],
   "source": [
    "import os\n",
    "import cfbd\n",
    "import pandas as pd\n",
    "\n",
    "def configure_API(api_type):\n",
    "    API_KEY = os.getenv('API_KEY')  # Retrieve API key from environment variables\n",
    "    \n",
    "    # Configure the API client\n",
    "    configuration = cfbd.Configuration()\n",
    "    configuration.api_key_prefix['Authorization'] = 'Bearer'\n",
    "    configuration.api_key['Authorization'] = API_KEY\n",
    "    \n",
    "    # Map API type to the corresponding API class\n",
    "    api_classes = {\n",
    "        'Games': cfbd.GamesApi,\n",
    "        'Teams': cfbd.TeamsApi,\n",
    "        'Players': cfbd.PlayersApi,\n",
    "        # Add more mappings as needed\n",
    "    }\n",
    "    \n",
    "    if api_type not in api_classes:\n",
    "        raise ValueError(f\"Unknown API type: {api_type}. Available types: {', '.join(api_classes.keys())}\")\n",
    "\n",
    "    # Create and return the API instance\n",
    "    api_instance = api_classes[api_type](cfbd.ApiClient(configuration))\n",
    "    return api_instance\n",
    "\n",
    "# Define other functions as needed..."
   ]
  },
  {
   "cell_type": "code",
   "execution_count": null,
   "id": "c51eaf1f",
   "metadata": {},
   "outputs": [],
   "source": []
  }
 ],
 "metadata": {
  "kernelspec": {
   "display_name": "Python 3 (ipykernel)",
   "language": "python",
   "name": "python3"
  },
  "language_info": {
   "codemirror_mode": {
    "name": "ipython",
    "version": 3
   },
   "file_extension": ".py",
   "mimetype": "text/x-python",
   "name": "python",
   "nbconvert_exporter": "python",
   "pygments_lexer": "ipython3",
   "version": "3.11.5"
  }
 },
 "nbformat": 4,
 "nbformat_minor": 5
}
