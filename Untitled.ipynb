{
 "cells": [
  {
   "cell_type": "code",
   "execution_count": 3,
   "id": "c6a285ff",
   "metadata": {},
   "outputs": [
    {
     "data": {
      "text/plain": [
       "'C:\\\\Users\\\\jorda\\\\CFBModel'"
      ]
     },
     "execution_count": 3,
     "metadata": {},
     "output_type": "execute_result"
    }
   ],
   "source": [
    "import os\n",
    "os.getcwd()"
   ]
  },
  {
   "cell_type": "code",
   "execution_count": 6,
   "id": "97d4ca6c",
   "metadata": {},
   "outputs": [],
   "source": [
    "%run import_modules.ipynb\n",
    "configuration = cfbd.Configuration()\n",
    "configuration.api_key['Authorization'] = 'MyjBpIrnMbCmsxXJD6zmiOCWqjB3p+7Icq5PRSrN82IXeOppkoEWybx1SmRryxT+'\n",
    "configuration.api_key_prefix['Authorization']='Bearer'\n",
    "api_instance = cfbd.GamesApi(cfbd.ApiClient(configuration))\n",
    "api_instance.get_team_game_stats(year=2024,week=1)"
   ]
  },
  {
   "cell_type": "code",
   "execution_count": 25,
   "id": "2093d5fb",
   "metadata": {},
   "outputs": [],
   "source": [
    "def parse_game_data(year):\n",
    "    weeks=[]\n",
    "    combined_teams = []\n",
    "    for j in range(1,16):\n",
    "        game_data = api_instance.get_team_game_stats(year=year,week=j)\n",
    "        for game in game_data: \n",
    "            for team in game.teams:\n",
    "                team_info = {\n",
    "                    'game_id': game.id,  # Add game_id to team info\n",
    "                    'conference': team.conference,\n",
    "                    'home_away': team.home_away,\n",
    "                    'points': team.points,\n",
    "                    'school': team.school,\n",
    "                    'school_id': team.school_id\n",
    "                }\n",
    "                # Extract stats\n",
    "                for stat in team.stats:\n",
    "                    stat_key = stat.category\n",
    "                    stat_value = stat.stat\n",
    "                    team_info[stat_key] = stat_value\n",
    "\n",
    "                combined_teams.append(team_info)\n",
    "    return pd.DataFrame(combined_teams)"
   ]
  },
  {
   "cell_type": "code",
   "execution_count": 26,
   "id": "afce4067",
   "metadata": {},
   "outputs": [],
   "source": [
    "teamStats23=parse_game_data(year=2023)"
   ]
  },
  {
   "cell_type": "code",
   "execution_count": null,
   "id": "46a84937",
   "metadata": {},
   "outputs": [],
   "source": [
    "teamStats24=parse_game_data(year=2024)\n",
    "teamStats22=parse_game_data(year=2022)\n",
    "teamStats21=parse_game_data(year=2021)\n",
    "teamStats20=parse_game_data(year=2020)\n",
    "\n",
    "con=sqlite3.connect('CFBModel/collegeFootball.db')\n",
    "cursor_obj= con.cursor()\n",
    "cursor_obj.execute(\"DROP TABLE IF EXISTS teamStats24\")\n",
    "teamStats24.to_sql(name='teamStats24',con=con)\n",
    "\n",
    "con=sqlite3.connect('CFBModel/collegeFootball.db')\n",
    "cursor_obj= con.cursor()\n",
    "cursor_obj.execute(\"DROP TABLE IF EXISTS teamStats22\")\n",
    "teamStats22.to_sql(name='teamStats22',con=con)\n",
    "\n",
    "con=sqlite3.connect('CFBModel/collegeFootball.db')\n",
    "cursor_obj= con.cursor()\n",
    "cursor_obj.execute(\"DROP TABLE IF EXISTS teamStats21\")\n",
    "teamStats21.to_sql(name='teamStats21',con=con)\n",
    "\n",
    "con=sqlite3.connect('CFBModel/collegeFootball.db')\n",
    "cursor_obj= con.cursor()\n",
    "cursor_obj.execute(\"DROP TABLE IF EXISTS teamStats20\")\n",
    "teamStats20.to_sql(name='teamStats20',con=con)\n",
    "\n",
    "con.commit()\n",
    "con.close()"
   ]
  },
  {
   "cell_type": "code",
   "execution_count": 27,
   "id": "62da515c",
   "metadata": {},
   "outputs": [],
   "source": [
    "con=sqlite3.connect('collegeFootball.db')\n",
    "cursor_obj= con.cursor()\n",
    "cursor_obj.execute(\"DROP TABLE IF EXISTS teamStats23\")\n",
    "teamStats23.to_sql(name='teamStats23',con=con)\n",
    "teamStats23 = pd.read_sql(\"\"\"SELECT * FROM teamStats23\"\"\", con)\n"
   ]
  },
  {
   "cell_type": "code",
   "execution_count": 29,
   "id": "3a5d2d9b",
   "metadata": {},
   "outputs": [
    {
     "data": {
      "text/plain": [
       "Index(['index', 'game_id', 'conference', 'home_away', 'points', 'school',\n",
       "       'school_id', 'rushingTDs', 'passingTDs', 'kickReturnYards',\n",
       "       'kickReturnTDs', 'kickReturns', 'kickingPoints', 'interceptionYards',\n",
       "       'interceptionTDs', 'passesIntercepted', 'fumblesRecovered',\n",
       "       'totalFumbles', 'possessionTime', 'interceptions', 'fumblesLost',\n",
       "       'turnovers', 'totalPenaltiesYards', 'yardsPerRushAttempt',\n",
       "       'rushingAttempts', 'rushingYards', 'yardsPerPass', 'completionAttempts',\n",
       "       'netPassingYards', 'totalYards', 'fourthDownEff', 'thirdDownEff',\n",
       "       'firstDowns', 'puntReturnYards', 'puntReturnTDs', 'puntReturns',\n",
       "       'tacklesForLoss', 'defensiveTDs', 'tackles', 'sacks', 'qbHurries',\n",
       "       'passesDeflected'],\n",
       "      dtype='object')"
      ]
     },
     "execution_count": 29,
     "metadata": {},
     "output_type": "execute_result"
    }
   ],
   "source": [
    "teamStats23.columns"
   ]
  }
 ],
 "metadata": {
  "kernelspec": {
   "display_name": "Python 3 (ipykernel)",
   "language": "python",
   "name": "python3"
  },
  "language_info": {
   "codemirror_mode": {
    "name": "ipython",
    "version": 3
   },
   "file_extension": ".py",
   "mimetype": "text/x-python",
   "name": "python",
   "nbconvert_exporter": "python",
   "pygments_lexer": "ipython3",
   "version": "3.11.5"
  }
 },
 "nbformat": 4,
 "nbformat_minor": 5
}
